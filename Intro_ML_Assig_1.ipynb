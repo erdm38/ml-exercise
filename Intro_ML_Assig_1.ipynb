{
  "cells": [
    {
      "cell_type": "markdown",
      "metadata": {
        "id": "LDtIf_7HscLD"
      },
      "source": [
        "# **Part 1: Basic Python Practice**\n",
        "\n"
      ]
    },
    {
      "cell_type": "markdown",
      "metadata": {
        "id": "OdjPol8LrqEm"
      },
      "source": [
        "**1.Working with Variables and Data Types:**\n",
        "\n",
        "Task:\n",
        "\n",
        "Create a variable named your_name and assign your name (as a string) to it.\n",
        "\n",
        "Create a variable named your_age and assign your age (as an integer) to it.\n",
        "\n",
        "Print the following sentence using f-strings, including your variables: \"Hello, my name is [your name] and I am [your age] years old.\"\n",
        "\n",
        "Check and print the data type of both your_name and your_age variables using the type() function."
      ]
    },
    {
      "cell_type": "code",
      "execution_count": null,
      "metadata": {
        "colab": {
          "base_uri": "https://localhost:8080/"
        },
        "id": "ggXjB02iraR7",
        "outputId": "8f0136fa-beb7-409e-ee59-78a0f68eec14"
      },
      "outputs": [
        {
          "name": "stdout",
          "output_type": "stream",
          "text": [
            "Hello, my name is Erdem Muslu and Iam 22 years old.\n",
            "Data type of your name is <class 'str'> and data type of your age is <class 'int'>\n"
          ]
        }
      ],
      "source": [
        "# Define a variable to store your name as a string\n",
        "your_name = \"Erdem Muslu\"\n",
        "# Define a variable to store your age as an integer\n",
        "your_age = 22\n",
        "\n",
        "# Print the formatted string using f-strings\n",
        "# Print the output\n",
        "print(f\"Hello, my name is {your_name} and Iam {your_age} years old.\")\n",
        "# Print the formatted string using f-strings\n",
        "# Print the output\n",
        "print(f\"Data type of your name is {type(your_name)} and data type of your age is {type(your_age)}\")\n",
        "\n"
      ]
    },
    {
      "cell_type": "markdown",
      "metadata": {
        "id": "Sjc-ydMCsj3a"
      },
      "source": [
        "**2.Simple Conditional Statement:**\n",
        "\n",
        "Task:\n",
        "\n",
        "Write an if-else statement that checks if your_age (from the previous task) is greater than or equal to 18.\n",
        "\n",
        "If it is, print \"You are an adult.\"\n",
        "\n",
        "Otherwise (else), print \"You are not yet an adult.\"\n",
        "\n"
      ]
    },
    {
      "cell_type": "code",
      "execution_count": null,
      "metadata": {
        "colab": {
          "base_uri": "https://localhost:8080/"
        },
        "id": "NP-M5vuIrolW",
        "outputId": "44e7cb94-3751-48ac-e503-16df0bfac4c5"
      },
      "outputs": [
        {
          "name": "stdout",
          "output_type": "stream",
          "text": [
            "You are an adult.\n"
          ]
        }
      ],
      "source": [
        "if your_age > 18:\n",
        "    # Check if the age is greater than 18 and print a message\n",
        "    print(\"You are an adult.\")\n",
        "else:\n",
        "    # If the age is 18 or less, print a different message\n",
        "    print(\"You are not an adult.\")"
      ]
    },
    {
      "cell_type": "markdown",
      "metadata": {
        "id": "oObK_KQ9tZva"
      },
      "source": [
        "**3.Basic Loop:**\n",
        "\n",
        "Task:\n",
        "\n",
        "Use a for loop to print the numbers from 1 to 5. Each number should be printed on a new line."
      ]
    },
    {
      "cell_type": "code",
      "execution_count": null,
      "metadata": {
        "colab": {
          "base_uri": "https://localhost:8080/"
        },
        "id": "_vN3Lsq7thvM",
        "outputId": "5d229b27-6f4e-496f-9920-a9568e2bcfa8"
      },
      "outputs": [
        {
          "name": "stdout",
          "output_type": "stream",
          "text": [
            "0\n",
            "1\n",
            "2\n",
            "3\n",
            "4\n",
            "5\n"
          ]
        }
      ],
      "source": [
        "for i in range(6):\n",
        "    # Loop from 0 to 5 and print each number\n",
        "    print(i)\n"
      ]
    },
    {
      "cell_type": "markdown",
      "metadata": {
        "id": "NPhEZnHutxJY"
      },
      "source": [
        "# **Part 2: NumPy Basics Practice**"
      ]
    },
    {
      "cell_type": "markdown",
      "metadata": {
        "id": "F0rqRR7bt9GM"
      },
      "source": [
        "**4.Creating a NumPy Array:**\n",
        "\n",
        "Task:\n",
        "Create a NumPy array named my_numpy_array from the following Python list: [5, 10, 15, 20, 25].\n",
        "\n",
        "Print the my_numpy_array.\n",
        "\n",
        "Print the data type of the elements in my_numpy_array using .dtype.\n"
      ]
    },
    {
      "cell_type": "code",
      "execution_count": 1,
      "metadata": {
        "colab": {
          "base_uri": "https://localhost:8080/"
        },
        "id": "TM7OSdOAvqVc",
        "outputId": "242f356a-1242-4f52-e990-128dc2f07fab"
      },
      "outputs": [
        {
          "name": "stdout",
          "output_type": "stream",
          "text": [
            "NumPy Array: [ 5 10 15 20 25]\n",
            "Data Type: int64\n"
          ]
        }
      ],
      "source": [
        "import numpy as np\n",
        "\n",
        "# Creating a NumPy array from the given list\n",
        "my_numpy_array = np.array([5, 10, 15, 20, 25])\n",
        "\n",
        "# Printing the NumPy array\n",
        "# Print the output\n",
        "print(\"NumPy Array:\", my_numpy_array)\n",
        "\n",
        "# Printing the data type of the elements in the NumPy array\n",
        "# Print the output\n",
        "print(\"Data Type:\", my_numpy_array.dtype)"
      ]
    },
    {
      "cell_type": "markdown",
      "metadata": {
        "id": "rXRxTU6dvx4b"
      },
      "source": [
        "**5.Basic NumPy Operation:**\n",
        "\n",
        "Task:\n",
        "\n",
        "Using the my_numpy_array you created in the previous task, multiply each element in the array by 2.\n",
        "\n",
        "Print the resulting NumPy array."
      ]
    },
    {
      "cell_type": "code",
      "execution_count": 2,
      "metadata": {
        "colab": {
          "base_uri": "https://localhost:8080/"
        },
        "id": "uUFB66SFv4aQ",
        "outputId": "0fbb1ef3-6067-49ca-bf92-a06b85b09ad1"
      },
      "outputs": [
        {
          "name": "stdout",
          "output_type": "stream",
          "text": [
            "[10 20 30 40 50]\n"
          ]
        }
      ],
      "source": [
        "# Multiply each element of the array by 2\n",
        "my_numpy_array = my_numpy_array * 2\n",
        "\n",
        "# Print the output\n",
        "print(my_numpy_array)"
      ]
    },
    {
      "cell_type": "markdown",
      "metadata": {
        "id": "EUmAJtMqwane"
      },
      "source": [
        "# **Part 3: Pandas Basics Practice**\n",
        "\n"
      ]
    },
    {
      "cell_type": "markdown",
      "metadata": {
        "id": "yVchv34vwiNf"
      },
      "source": [
        "**6.Creating a Pandas Series:**\n",
        "\n",
        "Task:\n",
        "\n",
        "Create a Pandas Series named my_pandas_series from the following list of fruits: ['apple', 'banana', 'orange', 'grape'].\n",
        "\n",
        "Print the my_pandas_series."
      ]
    },
    {
      "cell_type": "code",
      "execution_count": null,
      "metadata": {
        "colab": {
          "base_uri": "https://localhost:8080/"
        },
        "id": "tx9T3Q1owtqi",
        "outputId": "afc176e7-32af-4488-f0a3-b7c12bd82447"
      },
      "outputs": [
        {
          "name": "stdout",
          "output_type": "stream",
          "text": [
            "0     apple\n",
            "1    banana\n",
            "2    orange\n",
            "3     grape\n",
            "dtype: object\n"
          ]
        }
      ],
      "source": [
        "# Import the pandas library\n",
        "import pandas as pd\n",
        "\n",
        "# Create a Pandas Series with a list of fruit names\n",
        "my_pandas_series = pd.Series(['apple', 'banana', 'orange', 'grape'])\n",
        "# Print the output\n",
        "print(my_pandas_series)"
      ]
    },
    {
      "cell_type": "markdown",
      "metadata": {
        "id": "smMih_TBxyo8"
      },
      "source": [
        "**7.Creating a Pandas DataFrame and Viewing Data:**\n",
        "\n",
        "Task:\n",
        "\n",
        "Create a Pandas DataFrame named my_dataframe from the following dictionary:\n",
        "\n",
        "\n",
        "\n",
        "```\n",
        "# data = {'Name': ['StudentA', 'StudentB', 'StudentC'],\n",
        "        'Major': ['Engineering', 'Science', 'Arts']}\n",
        "```\n",
        "\n",
        "\n",
        "\n",
        "Print the my_dataframe.\n",
        "\n",
        "Use .head() to print the first 2 rows of my_dataframe (even though it only has 3 rows, just practice using .head()).\n"
      ]
    },
    {
      "cell_type": "code",
      "execution_count": null,
      "metadata": {
        "colab": {
          "base_uri": "https://localhost:8080/"
        },
        "id": "VEzE_ATKx3Xo",
        "outputId": "cb8851c3-8dd4-49f4-8898-b116804e3e34"
      },
      "outputs": [
        {
          "name": "stdout",
          "output_type": "stream",
          "text": [
            "Full DataFrame:\n",
            "        Name        Major\n",
            "0  StudentA  Engineering\n",
            "1  StudentB      Science\n",
            "2  StudentC         Arts\n",
            "First 2 rows of the DataFrame:\n",
            "        Name        Major\n",
            "0  StudentA  Engineering\n",
            "1  StudentB      Science \n",
            "\n"
          ]
        }
      ],
      "source": [
        "data = {'Name': ['StudentA', 'StudentB', 'StudentC'],\n",
        "        'Major': ['Engineering', 'Science', 'Arts']}\n",
        "\n",
        "# Create a DataFrame from the dictionary\n",
        "my_dataframe = pd.DataFrame(data)\n",
        "# Print the output\n",
        "print(\"Full DataFrame:\\n\", my_dataframe)\n",
        "# Print the output\n",
        "print(\"First 2 rows of the DataFrame:\\n\", my_dataframe.head(2), \"\\n\")"
      ]
    },
    {
      "cell_type": "markdown",
      "metadata": {
        "id": "43yc3AQkzkTO"
      },
      "source": [
        "# **Bonus Task (Optional, for students who finish quickly):**\n"
      ]
    },
    {
      "cell_type": "markdown",
      "metadata": {
        "id": "QJsIJk7DztP7"
      },
      "source": [
        "Explore .describe() in Pandas:\n",
        "\n",
        "Task:\n",
        "\n",
        "Create a Pandas DataFrame with a column named 'Numbers' containing the following values: [10, 20, 30, 40, 50, 50, 50].\n",
        "\n",
        "Use the .describe() function on the 'Numbers' column to get summary statistics.\n",
        "\n",
        "Print the output of .describe().\n",
        "\n",
        "In a comment in your code, briefly explain what each of the statistics (count, mean, std, min, 25%, 50%, 75%, max) tells you about the 'Numbers' column.v"
      ]
    },
    {
      "cell_type": "code",
      "execution_count": null,
      "metadata": {
        "colab": {
          "base_uri": "https://localhost:8080/"
        },
        "id": "BRPVgaqdzzR4",
        "outputId": "7e6a7007-4093-45fa-b101-d1908db627d0"
      },
      "outputs": [
        {
          "name": "stdout",
          "output_type": "stream",
          "text": [
            "         Numbers\n",
            "count   7.000000\n",
            "mean   35.714286\n",
            "std    16.183472\n",
            "min    10.000000\n",
            "25%    25.000000\n",
            "50%    40.000000\n",
            "75%    50.000000\n",
            "max    50.000000\n"
          ]
        }
      ],
      "source": [
        "\n",
        "data = {'Numbers' : [10, 20, 30, 40, 50, 50, 50]}\n",
        "\n",
        "# Create a DataFrame from the data\n",
        "df = pd.DataFrame(data)\n",
        "\n",
        "# Generate summary statistics for the DataFrame\n",
        "summary_statistics = df.describe()\n",
        "\n",
        "# Print the output\n",
        "print(summary_statistics)\n",
        "\n",
        "# Explanation of the statistics:\n",
        "# count: The number of non-null values in the column (7 in this case).\n",
        "# mean: The average of the values (35.71 here).\n",
        "# std: The standard deviation, which measures the spread of the values (16.73 here).\n",
        "# min: The smallest value in the column (10 here).\n",
        "# 25%: The 25th percentile (also called the first quartile), meaning 25% of the values are below 20.\n",
        "# 50%: The 50th percentile (median), meaning half of the values are below 40.\n",
        "# 75%: The 75th percentile (third quartile), meaning 75% of the values are below 50.\n",
        "# max: The largest value in the column (50 here)."
      ]
    }
  ],
  "metadata": {
    "colab": {
      "provenance": []
    },
    "kernelspec": {
      "display_name": "Python 3",
      "name": "python3"
    },
    "language_info": {
      "codemirror_mode": {
        "name": "ipython",
        "version": 3
      },
      "file_extension": ".py",
      "mimetype": "text/x-python",
      "name": "python",
      "nbconvert_exporter": "python",
      "pygments_lexer": "ipython3",
      "version": "3.12.1"
    }
  },
  "nbformat": 4,
  "nbformat_minor": 0
}
